{
 "cells": [
  {
   "cell_type": "code",
   "execution_count": 33,
   "id": "b497bc9e-2d88-4a44-8b40-03e61d95e0a4",
   "metadata": {},
   "outputs": [],
   "source": [
    "import pandas as pd\n",
    "import numpy as np\n",
    "import matplotlib.pyplot as plt\n",
    "import math"
   ]
  },
  {
   "cell_type": "code",
   "execution_count": 34,
   "id": "1a83abde-1120-41b5-b1db-3f8c7840fb3b",
   "metadata": {},
   "outputs": [
    {
     "data": {
      "text/html": [
       "<div>\n",
       "<style scoped>\n",
       "    .dataframe tbody tr th:only-of-type {\n",
       "        vertical-align: middle;\n",
       "    }\n",
       "\n",
       "    .dataframe tbody tr th {\n",
       "        vertical-align: top;\n",
       "    }\n",
       "\n",
       "    .dataframe thead th {\n",
       "        text-align: right;\n",
       "    }\n",
       "</style>\n",
       "<table border=\"1\" class=\"dataframe\">\n",
       "  <thead>\n",
       "    <tr style=\"text-align: right;\">\n",
       "      <th></th>\n",
       "      <th>name</th>\n",
       "      <th>selling_price</th>\n",
       "      <th>year</th>\n",
       "      <th>seller_type</th>\n",
       "      <th>owner</th>\n",
       "      <th>km_driven</th>\n",
       "      <th>ex_showroom_price</th>\n",
       "    </tr>\n",
       "  </thead>\n",
       "  <tbody>\n",
       "    <tr>\n",
       "      <th>0</th>\n",
       "      <td>Royal Enfield Classic 350</td>\n",
       "      <td>175000</td>\n",
       "      <td>2019</td>\n",
       "      <td>Individual</td>\n",
       "      <td>1st owner</td>\n",
       "      <td>350</td>\n",
       "      <td>NaN</td>\n",
       "    </tr>\n",
       "    <tr>\n",
       "      <th>1</th>\n",
       "      <td>Honda Dio</td>\n",
       "      <td>45000</td>\n",
       "      <td>2017</td>\n",
       "      <td>Individual</td>\n",
       "      <td>1st owner</td>\n",
       "      <td>5650</td>\n",
       "      <td>NaN</td>\n",
       "    </tr>\n",
       "    <tr>\n",
       "      <th>2</th>\n",
       "      <td>Royal Enfield Classic Gunmetal Grey</td>\n",
       "      <td>150000</td>\n",
       "      <td>2018</td>\n",
       "      <td>Individual</td>\n",
       "      <td>1st owner</td>\n",
       "      <td>12000</td>\n",
       "      <td>148114.0</td>\n",
       "    </tr>\n",
       "    <tr>\n",
       "      <th>3</th>\n",
       "      <td>Yamaha Fazer FI V 2.0 [2016-2018]</td>\n",
       "      <td>65000</td>\n",
       "      <td>2015</td>\n",
       "      <td>Individual</td>\n",
       "      <td>1st owner</td>\n",
       "      <td>23000</td>\n",
       "      <td>89643.0</td>\n",
       "    </tr>\n",
       "    <tr>\n",
       "      <th>4</th>\n",
       "      <td>Yamaha SZ [2013-2014]</td>\n",
       "      <td>20000</td>\n",
       "      <td>2011</td>\n",
       "      <td>Individual</td>\n",
       "      <td>2nd owner</td>\n",
       "      <td>21000</td>\n",
       "      <td>NaN</td>\n",
       "    </tr>\n",
       "  </tbody>\n",
       "</table>\n",
       "</div>"
      ],
      "text/plain": [
       "                                  name  selling_price  year seller_type  \\\n",
       "0            Royal Enfield Classic 350         175000  2019  Individual   \n",
       "1                            Honda Dio          45000  2017  Individual   \n",
       "2  Royal Enfield Classic Gunmetal Grey         150000  2018  Individual   \n",
       "3    Yamaha Fazer FI V 2.0 [2016-2018]          65000  2015  Individual   \n",
       "4                Yamaha SZ [2013-2014]          20000  2011  Individual   \n",
       "\n",
       "       owner  km_driven  ex_showroom_price  \n",
       "0  1st owner        350                NaN  \n",
       "1  1st owner       5650                NaN  \n",
       "2  1st owner      12000           148114.0  \n",
       "3  1st owner      23000            89643.0  \n",
       "4  2nd owner      21000                NaN  "
      ]
     },
     "execution_count": 34,
     "metadata": {},
     "output_type": "execute_result"
    }
   ],
   "source": [
    "data = pd.read_csv(\"bikeDetails.csv\")\n",
    "data.head()"
   ]
  },
  {
   "cell_type": "markdown",
   "id": "37d4a87d-7614-4bcd-8329-7d7dfc3a2981",
   "metadata": {},
   "source": [
    "# Grid Search Algorithm\n",
    "## Just y"
   ]
  },
  {
   "cell_type": "code",
   "execution_count": 80,
   "id": "bc6f1278-2e3f-4658-bcaa-313145042ac4",
   "metadata": {},
   "outputs": [],
   "source": [
    "def sel(y, c):\n",
    "    '''\n",
    "    Returns sqared error loss\n",
    "    '''\n",
    "    return (y-c)**2"
   ]
  },
  {
   "cell_type": "code",
   "execution_count": 101,
   "id": "cb2796ca-781d-4142-bcac-bf9676e81947",
   "metadata": {},
   "outputs": [],
   "source": [
    "def rmse(y, c):\n",
    "    '''\n",
    "    Returns rmse of c and y\n",
    "    '''\n",
    "    try:\n",
    "        value = np.sqrt(np.mean(sel(y,c)))\n",
    "        return value\n",
    "    except Exception as e:\n",
    "        print(\"Exception occurred \" + str(e))"
   ]
  },
  {
   "cell_type": "code",
   "execution_count": 102,
   "id": "0ee85c9a-f204-4c51-aaac-f798347fa0b0",
   "metadata": {},
   "outputs": [],
   "source": [
    "def create_grid_for_c(y):\n",
    "    '''\n",
    "    Returns a grid for c\n",
    "    '''\n",
    "    result = []\n",
    "    result.append (y.median())\n",
    "    result.append (y.median() + 0.05*y.std())\n",
    "    result.append (y.median() - 0.05*y.std())\n",
    "    result.append (y.median() + 0.1*y.std())\n",
    "    result.append (y.median() - 0.1*y.std())\n",
    "    result.append (y.median() + 0.2*y.std())\n",
    "    result.append (y.median() - 0.2*y.std())\n",
    "    result.append (y.mean())\n",
    "    result.append (y.mean() + 0.05*y.std())\n",
    "    result.append (y.mean() - 0.05*y.std())\n",
    "    result.append (y.mean() + 0.1*y.std())\n",
    "    result.append (y.mean() - 0.1*y.std())\n",
    "    result.append (y.mean() + 0.2*y.std())\n",
    "    result.append (y.mean() - 0.2*y.std())\n",
    "    result.append (y.mean() + 0.3*y.std())\n",
    "    result.append (y.mean() - 0.3*y.std())\n",
    "    result.append (y.mean() + 0.5*y.std())\n",
    "    result.append (y.mean() - 0.5*y.std())\n",
    "    return result"
   ]
  },
  {
   "cell_type": "code",
   "execution_count": 142,
   "id": "a310f949-6e65-4d77-9697-832c2c5fa996",
   "metadata": {},
   "outputs": [],
   "source": [
    "def grid_search(y):\n",
    "    '''\n",
    "    Returns optimal prediction for y by grid search\n",
    "    '''\n",
    "    try:\n",
    "        c = create_grid_for_c(y)\n",
    "        rmse_temp= rmse(y,c[0])\n",
    "        opt_c=c[0]\n",
    "        \n",
    "        for i in range(1,len(c)):\n",
    "            rmse_temp2= rmse(y,c[i])\n",
    "            if (rmse_temp2 < rmse_temp):\n",
    "                rmse_temp = rmse_temp2\n",
    "                opt_c=c[i]\n",
    "        return opt_c\n",
    "    except Exception as e:\n",
    "        print(\"Exception occurred \" + str(e))  "
   ]
  },
  {
   "cell_type": "code",
   "execution_count": 143,
   "id": "b5ee842c-fc09-445e-b66f-25822b5386ab",
   "metadata": {},
   "outputs": [
    {
     "data": {
      "text/plain": [
       "59638.151743638075"
      ]
     },
     "execution_count": 143,
     "metadata": {},
     "output_type": "execute_result"
    }
   ],
   "source": [
    "optimal_price = grid_search(data.selling_price)\n",
    "optimal_price"
   ]
  },
  {
   "cell_type": "code",
   "execution_count": 144,
   "id": "8c022884-2cf5-4098-911b-7427d2305144",
   "metadata": {},
   "outputs": [
    {
     "data": {
      "text/plain": [
       "34359.83317624882"
      ]
     },
     "execution_count": 144,
     "metadata": {},
     "output_type": "execute_result"
    }
   ],
   "source": [
    "opt_km_driven = grid_search(data.km_driven)\n",
    "opt_km_driven"
   ]
  },
  {
   "cell_type": "markdown",
   "id": "74d42afb-b788-4ca5-9c2e-0a08bb8f74a9",
   "metadata": {},
   "source": [
    "## both y and x"
   ]
  },
  {
   "cell_type": "code",
   "execution_count": 135,
   "id": "f59e2b8a-c43f-41c3-97ff-752728ad48e1",
   "metadata": {},
   "outputs": [],
   "source": [
    "b0 = np.arange (start=60000, stop=70000, step=5)\n",
    "b1 = np.arange(start=-1, stop = 1, step=0.01)\n",
    "grid = {'b0':b0, 'b1':b1}"
   ]
  },
  {
   "cell_type": "code",
   "execution_count": 136,
   "id": "a44fef65-e774-46fe-8997-8b26b3ac0720",
   "metadata": {},
   "outputs": [],
   "source": [
    "def grid_search_with_x(grid, x, y):\n",
    "    '''\n",
    "    Returns optimal values for b0 and b1 by grid search \n",
    "    '''\n",
    "    try:\n",
    "        result = {\"b0\": 0,\"b1\": 0,\"rmse\": 10**10}\n",
    "    \n",
    "        for i in range (len(grid[\"b0\"])):\n",
    "            for j in range (len(grid[\"b1\"])):\n",
    "                c = grid[\"b0\"][i] + x * grid[\"b1\"][j]\n",
    "                rmse_temp = rmse(y,c)\n",
    "                if (rmse_temp < result[\"rmse\"]):\n",
    "                    result[\"b0\"]=grid[\"b0\"][i]\n",
    "                    result[\"b1\"]=grid[\"b1\"][j]\n",
    "                    result[\"rmse\"]=rmse_temp\n",
    "                    \n",
    "        return result\n",
    "    except Exception as e:\n",
    "        print(\"Exception occurred \" + str(e))  "
   ]
  },
  {
   "cell_type": "code",
   "execution_count": 137,
   "id": "c31f2244-43e7-45bd-96a6-dbde59db7461",
   "metadata": {},
   "outputs": [],
   "source": [
    "optimal = grid_search_with_x(grid, data.km_driven, data.selling_price) "
   ]
  },
  {
   "cell_type": "code",
   "execution_count": 138,
   "id": "2e775f46-c77e-45a5-b653-d076898eb4b1",
   "metadata": {},
   "outputs": [
    {
     "data": {
      "text/plain": [
       "{'b0': 67540, 'b1': -0.22999999999999932, 'rmse': 54987.1999686615}"
      ]
     },
     "execution_count": 138,
     "metadata": {},
     "output_type": "execute_result"
    }
   ],
   "source": [
    "optimal"
   ]
  },
  {
   "cell_type": "code",
   "execution_count": 139,
   "id": "4031ca17-cb0e-4dfc-bb10-72f1321142f7",
   "metadata": {},
   "outputs": [
    {
     "data": {
      "text/plain": [
       "65240.00000000001"
      ]
     },
     "execution_count": 139,
     "metadata": {},
     "output_type": "execute_result"
    }
   ],
   "source": [
    "x = 10000\n",
    "y = optimal[\"b0\"]+optimal[\"b1\"]*x\n",
    "y"
   ]
  },
  {
   "cell_type": "code",
   "execution_count": 140,
   "id": "40547b15-7334-4db5-956a-91debafc5759",
   "metadata": {},
   "outputs": [
    {
     "data": {
      "text/plain": [
       "61790.000000000015"
      ]
     },
     "execution_count": 140,
     "metadata": {},
     "output_type": "execute_result"
    }
   ],
   "source": [
    "x = 25000\n",
    "y = optimal[\"b0\"]+optimal[\"b1\"]*x\n",
    "y"
   ]
  },
  {
   "cell_type": "code",
   "execution_count": 141,
   "id": "f0e94e66-30ea-4b88-a04b-3f37617c8737",
   "metadata": {},
   "outputs": [
    {
     "data": {
      "text/plain": [
       "59490.00000000002"
      ]
     },
     "execution_count": 141,
     "metadata": {},
     "output_type": "execute_result"
    }
   ],
   "source": [
    "x = 35000\n",
    "y = optimal[\"b0\"]+optimal[\"b1\"]*x\n",
    "y"
   ]
  },
  {
   "cell_type": "code",
   "execution_count": null,
   "id": "bd6bb7c2-96c1-408d-8ab1-2b494a80ae7f",
   "metadata": {},
   "outputs": [],
   "source": []
  }
 ],
 "metadata": {
  "kernelspec": {
   "display_name": "Python 3",
   "language": "python",
   "name": "python3"
  },
  "language_info": {
   "codemirror_mode": {
    "name": "ipython",
    "version": 3
   },
   "file_extension": ".py",
   "mimetype": "text/x-python",
   "name": "python",
   "nbconvert_exporter": "python",
   "pygments_lexer": "ipython3",
   "version": "3.8.8"
  }
 },
 "nbformat": 4,
 "nbformat_minor": 5
}

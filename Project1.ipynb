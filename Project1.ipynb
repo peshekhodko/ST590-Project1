{
 "cells": [
  {
   "cell_type": "markdown",
   "id": "4d6872bf-833c-4331-9502-cb9f8a835c28",
   "metadata": {
    "tags": []
   },
   "source": [
    "# Introduction\n",
    "\n",
    "The goal of this project is to get some insight of the used motorcycle data and implement two methods to pridict the selling price: \n",
    "\n",
    "1. Grid search\n",
    "2. Gradient descent \n",
    "\n",
    "The data which will be used is `Used motorcycle data set` and was taken from [Kaggle](https://www.kaggle.com/datasets/nehalbirla/motorcycle-dataset?select=BIKE+DETAILS.csv)."
   ]
  },
  {
   "cell_type": "markdown",
   "id": "f7a0232f-a6a0-4b8d-a20a-da6e656c5532",
   "metadata": {
    "tags": []
   },
   "source": [
    "## Packages Used:\n",
    "\n",
    "- **pandas** - python library for data manipulation and analysis\n",
    "- **numpy** - python library for working with arrays and matrices, along with a large collection of high-level mathematical functions to operate on these arrays\n",
    "- **matplotlib.pyplot** - library for creating static, animated, and interactive visualizations in python\n",
    "- **math** - standard module in Python which is always available and provides mathematical functions"
   ]
  },
  {
   "cell_type": "code",
   "execution_count": 33,
   "id": "46737d4f-42e8-4aad-b1ed-f61822bcac10",
   "metadata": {},
   "outputs": [],
   "source": [
    "import pandas as pd\n",
    "import numpy as np\n",
    "import matplotlib.pyplot as plt\n",
    "import math"
   ]
  },
  {
   "cell_type": "markdown",
   "id": "aca34867-df78-449f-9c97-1a5eebf53f7e",
   "metadata": {
    "tags": []
   },
   "source": [
    "## Basic Information of the Data\n",
    "\n",
    "Read the csv file in and have a look at its basic features."
   ]
  },
  {
   "cell_type": "code",
   "execution_count": 34,
   "id": "53eea377-d0cd-49f3-bbcd-04c03eb79a1f",
   "metadata": {},
   "outputs": [
    {
     "data": {
      "text/html": [
       "<div>\n",
       "<style scoped>\n",
       "    .dataframe tbody tr th:only-of-type {\n",
       "        vertical-align: middle;\n",
       "    }\n",
       "\n",
       "    .dataframe tbody tr th {\n",
       "        vertical-align: top;\n",
       "    }\n",
       "\n",
       "    .dataframe thead th {\n",
       "        text-align: right;\n",
       "    }\n",
       "</style>\n",
       "<table border=\"1\" class=\"dataframe\">\n",
       "  <thead>\n",
       "    <tr style=\"text-align: right;\">\n",
       "      <th></th>\n",
       "      <th>name</th>\n",
       "      <th>selling_price</th>\n",
       "      <th>year</th>\n",
       "      <th>seller_type</th>\n",
       "      <th>owner</th>\n",
       "      <th>km_driven</th>\n",
       "      <th>ex_showroom_price</th>\n",
       "    </tr>\n",
       "  </thead>\n",
       "  <tbody>\n",
       "    <tr>\n",
       "      <th>0</th>\n",
       "      <td>Royal Enfield Classic 350</td>\n",
       "      <td>175000</td>\n",
       "      <td>2019</td>\n",
       "      <td>Individual</td>\n",
       "      <td>1st owner</td>\n",
       "      <td>350</td>\n",
       "      <td>NaN</td>\n",
       "    </tr>\n",
       "    <tr>\n",
       "      <th>1</th>\n",
       "      <td>Honda Dio</td>\n",
       "      <td>45000</td>\n",
       "      <td>2017</td>\n",
       "      <td>Individual</td>\n",
       "      <td>1st owner</td>\n",
       "      <td>5650</td>\n",
       "      <td>NaN</td>\n",
       "    </tr>\n",
       "    <tr>\n",
       "      <th>2</th>\n",
       "      <td>Royal Enfield Classic Gunmetal Grey</td>\n",
       "      <td>150000</td>\n",
       "      <td>2018</td>\n",
       "      <td>Individual</td>\n",
       "      <td>1st owner</td>\n",
       "      <td>12000</td>\n",
       "      <td>148114.0</td>\n",
       "    </tr>\n",
       "    <tr>\n",
       "      <th>3</th>\n",
       "      <td>Yamaha Fazer FI V 2.0 [2016-2018]</td>\n",
       "      <td>65000</td>\n",
       "      <td>2015</td>\n",
       "      <td>Individual</td>\n",
       "      <td>1st owner</td>\n",
       "      <td>23000</td>\n",
       "      <td>89643.0</td>\n",
       "    </tr>\n",
       "    <tr>\n",
       "      <th>4</th>\n",
       "      <td>Yamaha SZ [2013-2014]</td>\n",
       "      <td>20000</td>\n",
       "      <td>2011</td>\n",
       "      <td>Individual</td>\n",
       "      <td>2nd owner</td>\n",
       "      <td>21000</td>\n",
       "      <td>NaN</td>\n",
       "    </tr>\n",
       "  </tbody>\n",
       "</table>\n",
       "</div>"
      ],
      "text/plain": [
       "                                  name  selling_price  year seller_type  \\\n",
       "0            Royal Enfield Classic 350         175000  2019  Individual   \n",
       "1                            Honda Dio          45000  2017  Individual   \n",
       "2  Royal Enfield Classic Gunmetal Grey         150000  2018  Individual   \n",
       "3    Yamaha Fazer FI V 2.0 [2016-2018]          65000  2015  Individual   \n",
       "4                Yamaha SZ [2013-2014]          20000  2011  Individual   \n",
       "\n",
       "       owner  km_driven  ex_showroom_price  \n",
       "0  1st owner        350                NaN  \n",
       "1  1st owner       5650                NaN  \n",
       "2  1st owner      12000           148114.0  \n",
       "3  1st owner      23000            89643.0  \n",
       "4  2nd owner      21000                NaN  "
      ]
     },
     "execution_count": 34,
     "metadata": {},
     "output_type": "execute_result"
    }
   ],
   "source": [
    "data = pd.read_csv(\"bikeDetails.csv\")\n",
    "data.head()"
   ]
  },
  {
   "cell_type": "code",
   "execution_count": 35,
   "id": "25dddb86-a306-4fd0-80ab-8ce7ecd89cd0",
   "metadata": {},
   "outputs": [
    {
     "name": "stdout",
     "output_type": "stream",
     "text": [
      "<class 'pandas.core.frame.DataFrame'>\n",
      "RangeIndex: 1061 entries, 0 to 1060\n",
      "Data columns (total 7 columns):\n",
      " #   Column             Non-Null Count  Dtype  \n",
      "---  ------             --------------  -----  \n",
      " 0   name               1061 non-null   object \n",
      " 1   selling_price      1061 non-null   int64  \n",
      " 2   year               1061 non-null   int64  \n",
      " 3   seller_type        1061 non-null   object \n",
      " 4   owner              1061 non-null   object \n",
      " 5   km_driven          1061 non-null   int64  \n",
      " 6   ex_showroom_price  626 non-null    float64\n",
      "dtypes: float64(1), int64(3), object(3)\n",
      "memory usage: 58.1+ KB\n"
     ]
    }
   ],
   "source": [
    "data.info()"
   ]
  },
  {
   "cell_type": "markdown",
   "id": "c81cc10d-5058-4732-9182-247839986f9b",
   "metadata": {},
   "source": [
    "The columns in the data set are following:\n",
    "\n",
    "1. name (of motorcycle)\n",
    "2. selling price\n",
    "3. year (of motorcycle)\n",
    "4. seller type\n",
    "5. owner (number of owners)\n",
    "6. km driven\n",
    "7. ex showroom price"
   ]
  },
  {
   "cell_type": "code",
   "execution_count": 36,
   "id": "bae49819-aba4-44ad-84e9-00456bc897b5",
   "metadata": {},
   "outputs": [
    {
     "data": {
      "text/html": [
       "<div>\n",
       "<style scoped>\n",
       "    .dataframe tbody tr th:only-of-type {\n",
       "        vertical-align: middle;\n",
       "    }\n",
       "\n",
       "    .dataframe tbody tr th {\n",
       "        vertical-align: top;\n",
       "    }\n",
       "\n",
       "    .dataframe thead th {\n",
       "        text-align: right;\n",
       "    }\n",
       "</style>\n",
       "<table border=\"1\" class=\"dataframe\">\n",
       "  <thead>\n",
       "    <tr style=\"text-align: right;\">\n",
       "      <th></th>\n",
       "      <th>selling_price</th>\n",
       "      <th>year</th>\n",
       "      <th>km_driven</th>\n",
       "      <th>ex_showroom_price</th>\n",
       "    </tr>\n",
       "  </thead>\n",
       "  <tbody>\n",
       "    <tr>\n",
       "      <th>count</th>\n",
       "      <td>1061.000000</td>\n",
       "      <td>1061.000000</td>\n",
       "      <td>1061.000000</td>\n",
       "      <td>6.260000e+02</td>\n",
       "    </tr>\n",
       "    <tr>\n",
       "      <th>mean</th>\n",
       "      <td>59638.151744</td>\n",
       "      <td>2013.867107</td>\n",
       "      <td>34359.833176</td>\n",
       "      <td>8.795871e+04</td>\n",
       "    </tr>\n",
       "    <tr>\n",
       "      <th>std</th>\n",
       "      <td>56304.291973</td>\n",
       "      <td>4.301191</td>\n",
       "      <td>51623.152702</td>\n",
       "      <td>7.749659e+04</td>\n",
       "    </tr>\n",
       "    <tr>\n",
       "      <th>min</th>\n",
       "      <td>5000.000000</td>\n",
       "      <td>1988.000000</td>\n",
       "      <td>350.000000</td>\n",
       "      <td>3.049000e+04</td>\n",
       "    </tr>\n",
       "    <tr>\n",
       "      <th>25%</th>\n",
       "      <td>28000.000000</td>\n",
       "      <td>2011.000000</td>\n",
       "      <td>13500.000000</td>\n",
       "      <td>5.485200e+04</td>\n",
       "    </tr>\n",
       "    <tr>\n",
       "      <th>50%</th>\n",
       "      <td>45000.000000</td>\n",
       "      <td>2015.000000</td>\n",
       "      <td>25000.000000</td>\n",
       "      <td>7.275250e+04</td>\n",
       "    </tr>\n",
       "    <tr>\n",
       "      <th>75%</th>\n",
       "      <td>70000.000000</td>\n",
       "      <td>2017.000000</td>\n",
       "      <td>43000.000000</td>\n",
       "      <td>8.703150e+04</td>\n",
       "    </tr>\n",
       "    <tr>\n",
       "      <th>max</th>\n",
       "      <td>760000.000000</td>\n",
       "      <td>2020.000000</td>\n",
       "      <td>880000.000000</td>\n",
       "      <td>1.278000e+06</td>\n",
       "    </tr>\n",
       "  </tbody>\n",
       "</table>\n",
       "</div>"
      ],
      "text/plain": [
       "       selling_price         year      km_driven  ex_showroom_price\n",
       "count    1061.000000  1061.000000    1061.000000       6.260000e+02\n",
       "mean    59638.151744  2013.867107   34359.833176       8.795871e+04\n",
       "std     56304.291973     4.301191   51623.152702       7.749659e+04\n",
       "min      5000.000000  1988.000000     350.000000       3.049000e+04\n",
       "25%     28000.000000  2011.000000   13500.000000       5.485200e+04\n",
       "50%     45000.000000  2015.000000   25000.000000       7.275250e+04\n",
       "75%     70000.000000  2017.000000   43000.000000       8.703150e+04\n",
       "max    760000.000000  2020.000000  880000.000000       1.278000e+06"
      ]
     },
     "execution_count": 36,
     "metadata": {},
     "output_type": "execute_result"
    }
   ],
   "source": [
    "data.describe()"
   ]
  },
  {
   "cell_type": "markdown",
   "id": "eabd66a1-a438-48c0-b3ff-c7507725428b",
   "metadata": {},
   "source": [
    "Above is the numeric summary of the data."
   ]
  },
  {
   "cell_type": "markdown",
   "id": "72420f8c-e36c-448a-9103-c054a581af05",
   "metadata": {
    "tags": []
   },
   "source": [
    "# Exploratory Data Analysis\n",
    "\n",
    "The goal of this section is to get some insights about data, especially the selling price. \n",
    "\n",
    "After exploring snippet and concise summary of data above, we convert columns `seller_type`, `owner` to categorical type."
   ]
  },
  {
   "cell_type": "code",
   "execution_count": 37,
   "id": "e2b8dcab-4396-4922-8283-6a3527b5bda6",
   "metadata": {},
   "outputs": [],
   "source": [
    "data[[\"seller_type\",\"owner\"]] = data[[\"seller_type\",\"owner\"]].apply(lambda x: x.astype(\"category\"))"
   ]
  },
  {
   "cell_type": "markdown",
   "id": "39ef149f-100f-46cc-a9b4-df159309619b",
   "metadata": {},
   "source": [
    "Confirming variables are converted to categorical."
   ]
  },
  {
   "cell_type": "code",
   "execution_count": 38,
   "id": "668a2258-8088-4b55-b058-4174b00fb471",
   "metadata": {},
   "outputs": [
    {
     "name": "stdout",
     "output_type": "stream",
     "text": [
      "<class 'pandas.core.frame.DataFrame'>\n",
      "RangeIndex: 1061 entries, 0 to 1060\n",
      "Data columns (total 7 columns):\n",
      " #   Column             Non-Null Count  Dtype   \n",
      "---  ------             --------------  -----   \n",
      " 0   name               1061 non-null   object  \n",
      " 1   selling_price      1061 non-null   int64   \n",
      " 2   year               1061 non-null   int64   \n",
      " 3   seller_type        1061 non-null   category\n",
      " 4   owner              1061 non-null   category\n",
      " 5   km_driven          1061 non-null   int64   \n",
      " 6   ex_showroom_price  626 non-null    float64 \n",
      "dtypes: category(2), float64(1), int64(3), object(1)\n",
      "memory usage: 43.9+ KB\n"
     ]
    }
   ],
   "source": [
    "data.info()"
   ]
  },
  {
   "cell_type": "markdown",
   "id": "9e230aa1-93af-47b3-908f-0457703142bd",
   "metadata": {
    "tags": []
   },
   "source": [
    "## Selling Price Distribution\n",
    "\n",
    "The most interesting variable in this data set is `selling_price`. Let's start with creating histogram to understand the distribution of the `selling_price`."
   ]
  },
  {
   "cell_type": "code",
   "execution_count": 39,
   "id": "4c43406f-4d34-495b-b1b2-c84f0f69b644",
   "metadata": {},
   "outputs": [
    {
     "data": {
      "image/png": "[encoded data removed]",
      "text/plain": [
       "<Figure size 648x432 with 1 Axes>"
      ]
     },
     "metadata": {
      "needs_background": "light"
     },
     "output_type": "display_data"
    }
   ],
   "source": [
    "plt.hist(data['selling_price'], bins = 40, ec=\"black\", color = \"green\", alpha = 0.5)\n",
    "plt.title (\"Selling price distribution\")\n",
    "plt.rcParams[\"figure.figsize\"]= (9,6)\n",
    "plt.show()\n",
    "plt.close()"
   ]
  },
  {
   "cell_type": "markdown",
   "id": "bf35a9fd-6b1f-4442-903e-627e75bade07",
   "metadata": {},
   "source": [
    "The distribution of `selling_price` is heavily skewed to the right."
   ]
  },
  {
   "cell_type": "code",
   "execution_count": 40,
   "id": "ad2cea2a-fc46-4b36-be8c-ef93cf4998ad",
   "metadata": {},
   "outputs": [
    {
     "data": {
      "image/png": "[encoded data removed]",
      "text/plain": [
       "<Figure size 648x432 with 1 Axes>"
      ]
     },
     "metadata": {
      "needs_background": "light"
     },
     "output_type": "display_data"
    }
   ],
   "source": [
    "data.selling_price.plot.density(bw_method = 0.5, label = \"bw = 0.5\")\n",
    "data.selling_price.plot.density(bw_method = 1, label = \"bw = 1\")\n",
    "data.selling_price.plot.density(bw_method = 0.25, label = \"bw = 0.25\")\n",
    "plt.xlabel(\"Selling price\")\n",
    "plt.title(\"Density Plots for grades G1 and G3 for math class\")\n",
    "plt.legend()\n",
    "plt.rcParams[\"figure.figsize\"]= (9,6)\n",
    "plt.show()\n",
    "plt.close()"
   ]
  },
  {
   "cell_type": "markdown",
   "id": "4600b448-cb1f-4490-b9b0-9c69fe8e0fec",
   "metadata": {},
   "source": [
    "Kernel density plot confirms skewness to the right. "
   ]
  },
  {
   "cell_type": "markdown",
   "id": "b619c751-a106-4fd2-8627-7e6d7e1ce73c",
   "metadata": {
    "tags": []
   },
   "source": [
    "## Correlation\n",
    "\n",
    "We observe the correlations between the numeric data."
   ]
  },
  {
   "cell_type": "code",
   "execution_count": 41,
   "id": "81513541-eb83-4c7a-b701-690df91c1753",
   "metadata": {},
   "outputs": [
    {
     "data": {
      "text/html": [
       "<div>\n",
       "<style scoped>\n",
       "    .dataframe tbody tr th:only-of-type {\n",
       "        vertical-align: middle;\n",
       "    }\n",
       "\n",
       "    .dataframe tbody tr th {\n",
       "        vertical-align: top;\n",
       "    }\n",
       "\n",
       "    .dataframe thead th {\n",
       "        text-align: right;\n",
       "    }\n",
       "</style>\n",
       "<table border=\"1\" class=\"dataframe\">\n",
       "  <thead>\n",
       "    <tr style=\"text-align: right;\">\n",
       "      <th></th>\n",
       "      <th>selling_price</th>\n",
       "      <th>year</th>\n",
       "      <th>km_driven</th>\n",
       "      <th>ex_showroom_price</th>\n",
       "    </tr>\n",
       "  </thead>\n",
       "  <tbody>\n",
       "    <tr>\n",
       "      <th>selling_price</th>\n",
       "      <td>1.000000</td>\n",
       "      <td>0.402188</td>\n",
       "      <td>-0.212937</td>\n",
       "      <td>0.918583</td>\n",
       "    </tr>\n",
       "    <tr>\n",
       "      <th>year</th>\n",
       "      <td>0.402188</td>\n",
       "      <td>1.000000</td>\n",
       "      <td>-0.288675</td>\n",
       "      <td>0.126378</td>\n",
       "    </tr>\n",
       "    <tr>\n",
       "      <th>km_driven</th>\n",
       "      <td>-0.212937</td>\n",
       "      <td>-0.288675</td>\n",
       "      <td>1.000000</td>\n",
       "      <td>-0.122011</td>\n",
       "    </tr>\n",
       "    <tr>\n",
       "      <th>ex_showroom_price</th>\n",
       "      <td>0.918583</td>\n",
       "      <td>0.126378</td>\n",
       "      <td>-0.122011</td>\n",
       "      <td>1.000000</td>\n",
       "    </tr>\n",
       "  </tbody>\n",
       "</table>\n",
       "</div>"
      ],
      "text/plain": [
       "                   selling_price      year  km_driven  ex_showroom_price\n",
       "selling_price           1.000000  0.402188  -0.212937           0.918583\n",
       "year                    0.402188  1.000000  -0.288675           0.126378\n",
       "km_driven              -0.212937 -0.288675   1.000000          -0.122011\n",
       "ex_showroom_price       0.918583  0.126378  -0.122011           1.000000"
      ]
     },
     "execution_count": 41,
     "metadata": {},
     "output_type": "execute_result"
    }
   ],
   "source": [
    "data[[\"selling_price\", \"year\", \"km_driven\", \"ex_showroom_price\"]].corr()"
   ]
  },
  {
   "cell_type": "markdown",
   "id": "b7a864b2-cf32-456d-8afe-42d3f2e88726",
   "metadata": {},
   "source": [
    "Based on the on the correlation map and correlation table, there is strong positive correlation between `selling price` and `ex_showroom_price`."
   ]
  },
  {
   "cell_type": "markdown",
   "id": "ed21ac51-70a4-4aef-a602-a1c597447e2f",
   "metadata": {},
   "source": [
    "### Ex-Showroom Price"
   ]
  },
  {
   "cell_type": "code",
   "execution_count": 42,
   "id": "7a21e31a-cee1-44be-b59b-14a8f1b13e75",
   "metadata": {},
   "outputs": [
    {
     "data": {
      "image/png": "[encoded data removed]",
      "text/plain": [
       "<Figure size 648x432 with 1 Axes>"
      ]
     },
     "metadata": {
      "needs_background": "light"
     },
     "output_type": "display_data"
    }
   ],
   "source": [
    "plt.scatter(data.ex_showroom_price, data.selling_price, color = \"green\", alpha = 0.5)\n",
    "plt.xlabel(\"ex showroom price\")\n",
    "plt.ylabel(\"selling price\")\n",
    "plt.rcParams[\"figure.figsize\"]= (9,6)\n",
    "plt.show()\n",
    "plt.close()"
   ]
  },
  {
   "cell_type": "markdown",
   "id": "ef26c139-012f-4de2-b98f-15ffe736905f",
   "metadata": {},
   "source": [
    "Graphs displays strong positive correlation between `selling price` and `ex_showroom_price`."
   ]
  },
  {
   "cell_type": "markdown",
   "id": "829e81be-a361-4b8f-b674-6bbbb5a3eabf",
   "metadata": {},
   "source": [
    "### Year and km_driven\n",
    "\n",
    "We observe the distribution of selling price according to year and the mileage."
   ]
  },
  {
   "cell_type": "code",
   "execution_count": 44,
   "id": "d91ef009-452d-49f9-b80c-2b7ff2de4db8",
   "metadata": {},
   "outputs": [
    {
     "data": {
      "image/png": "[encoded data removed]",
      "text/plain": [
       "<Figure size 648x432 with 1 Axes>"
      ]
     },
     "metadata": {
      "needs_background": "light"
     },
     "output_type": "display_data"
    }
   ],
   "source": [
    "plt.scatter(data.year, data.selling_price, color = \"green\", alpha = 0.5)\n",
    "plt.xlabel(\"Year of motorcycle\")\n",
    "plt.ylabel(\"Selling price\")\n",
    "plt.title (\"Selling price vs year of motorcycle\")\n",
    "plt.rcParams[\"figure.figsize\"]= (9,6)\n",
    "plt.show()\n",
    "plt.close()"
   ]
  },
  {
   "cell_type": "markdown",
   "id": "8c3e8ab1-8a9e-4433-bc00-44a625868efc",
   "metadata": {},
   "source": [
    "Selling price is increasing when year of motorcycle is increasing."
   ]
  },
  {
   "cell_type": "code",
   "execution_count": 45,
   "id": "10d1e838-bdbd-4a74-9d8e-60a8ee2464df",
   "metadata": {},
   "outputs": [
    {
     "data": {
      "image/png": "[encoded data removed]",
      "text/plain": [
       "<Figure size 648x432 with 1 Axes>"
      ]
     },
     "metadata": {
      "needs_background": "light"
     },
     "output_type": "display_data"
    }
   ],
   "source": [
    "plt.scatter(data.year, data.km_driven, color = \"green\", alpha = 0.5)\n",
    "plt.xlabel(\"Year\")\n",
    "plt.ylabel(\"km \")\n",
    "plt.rcParams[\"figure.figsize\"]= (9,6)\n",
    "plt.show()\n",
    "plt.close()"
   ]
  },
  {
   "cell_type": "markdown",
   "id": "4558d1cf-a199-4285-b8e2-065e02ecad4b",
   "metadata": {},
   "source": [
    "Based on the graph above, there is no significant dependency between year of motorcycle and kilometers driven."
   ]
  },
  {
   "cell_type": "code",
   "execution_count": 46,
   "id": "def19a49-c557-41d9-978c-e2593b2d43e7",
   "metadata": {},
   "outputs": [
    {
     "data": {
      "image/png": "[encoded data removed]",
      "text/plain": [
       "<Figure size 648x432 with 1 Axes>"
      ]
     },
     "metadata": {
      "needs_background": "light"
     },
     "output_type": "display_data"
    }
   ],
   "source": [
    "plt.scatter(data.km_driven, data.selling_price, color = \"green\", alpha = 0.5)\n",
    "plt.xlabel(\"km driven\")\n",
    "plt.ylabel(\"Selling price\")\n",
    "plt.rcParams[\"figure.figsize\"]= (9,6)\n",
    "plt.show()\n",
    "plt.close()"
   ]
  },
  {
   "cell_type": "code",
   "execution_count": 47,
   "id": "26de1960-0647-44b7-a858-d44de318d630",
   "metadata": {},
   "outputs": [
    {
     "data": {
      "image/png": "[encoded data removed]",
      "text/plain": [
       "<Figure size 648x432 with 1 Axes>"
      ]
     },
     "metadata": {
      "needs_background": "light"
     },
     "output_type": "display_data"
    }
   ],
   "source": [
    "import matplotlib.patches\n",
    "levels, categories = pd.factorize(data['seller_type'])\n",
    "colors = [plt.cm.tab10(i) for i in levels]\n",
    "handles = [matplotlib.patches.Patch(color=plt.cm.tab10(i), label=c) for i, c in enumerate(categories)]\n",
    "plt.scatter(data.km_driven, data.selling_price,  c = colors,  alpha = 0.5)\n",
    "plt.legend(handles=handles, title='Seller type')\n",
    "plt.xlabel(\"km driven\")\n",
    "plt.ylabel(\"Selling price\")\n",
    "plt.title (\"Scatterplot selling price vs km driven\" )\n",
    "plt.show()\n",
    "plt.close()"
   ]
  },
  {
   "cell_type": "markdown",
   "id": "9d3e0c15-3459-40c5-88d1-99bdd884718e",
   "metadata": {},
   "source": [
    "Selling price is decreasing significantly when number of km driven increasing for both seller types."
   ]
  },
  {
   "cell_type": "code",
   "execution_count": 48,
   "id": "56594e05-7ecc-47d0-bf69-6e33679a1fc5",
   "metadata": {},
   "outputs": [
    {
     "data": {
      "image/png": "[encoded data removed]",
      "text/plain": [
       "<Figure size 648x432 with 16 Axes>"
      ]
     },
     "metadata": {
      "needs_background": "light"
     },
     "output_type": "display_data"
    }
   ],
   "source": [
    "pd.plotting.scatter_matrix(data, color=\"green\", hist_kwds={'bins':30, 'color':'green'})\n",
    "plt.rcParams[\"figure.figsize\"]= (9,6)\n",
    "plt.show()\n",
    "plt.close()"
   ]
  },
  {
   "cell_type": "markdown",
   "id": "353f22df-5378-4cdf-bda6-f726f8469cd2",
   "metadata": {
    "tags": []
   },
   "source": [
    "## Owner and Seller Type"
   ]
  },
  {
   "cell_type": "code",
   "execution_count": 49,
   "id": "4c7fe66f-3ba4-4fe8-8377-1db97c796caf",
   "metadata": {},
   "outputs": [
    {
     "data": {
      "text/html": [
       "<div>\n",
       "<style scoped>\n",
       "    .dataframe tbody tr th:only-of-type {\n",
       "        vertical-align: middle;\n",
       "    }\n",
       "\n",
       "    .dataframe tbody tr th {\n",
       "        vertical-align: top;\n",
       "    }\n",
       "\n",
       "    .dataframe thead th {\n",
       "        text-align: right;\n",
       "    }\n",
       "</style>\n",
       "<table border=\"1\" class=\"dataframe\">\n",
       "  <thead>\n",
       "    <tr style=\"text-align: right;\">\n",
       "      <th>seller_type</th>\n",
       "      <th>Dealer</th>\n",
       "      <th>Individual</th>\n",
       "      <th>All</th>\n",
       "    </tr>\n",
       "    <tr>\n",
       "      <th>owner</th>\n",
       "      <th></th>\n",
       "      <th></th>\n",
       "      <th></th>\n",
       "    </tr>\n",
       "  </thead>\n",
       "  <tbody>\n",
       "    <tr>\n",
       "      <th>1st owner</th>\n",
       "      <td>4</td>\n",
       "      <td>920</td>\n",
       "      <td>924</td>\n",
       "    </tr>\n",
       "    <tr>\n",
       "      <th>2nd owner</th>\n",
       "      <td>2</td>\n",
       "      <td>121</td>\n",
       "      <td>123</td>\n",
       "    </tr>\n",
       "    <tr>\n",
       "      <th>3rd owner</th>\n",
       "      <td>0</td>\n",
       "      <td>11</td>\n",
       "      <td>11</td>\n",
       "    </tr>\n",
       "    <tr>\n",
       "      <th>4th owner</th>\n",
       "      <td>0</td>\n",
       "      <td>3</td>\n",
       "      <td>3</td>\n",
       "    </tr>\n",
       "    <tr>\n",
       "      <th>All</th>\n",
       "      <td>6</td>\n",
       "      <td>1055</td>\n",
       "      <td>1061</td>\n",
       "    </tr>\n",
       "  </tbody>\n",
       "</table>\n",
       "</div>"
      ],
      "text/plain": [
       "seller_type  Dealer  Individual   All\n",
       "owner                                \n",
       "1st owner         4         920   924\n",
       "2nd owner         2         121   123\n",
       "3rd owner         0          11    11\n",
       "4th owner         0           3     3\n",
       "All               6        1055  1061"
      ]
     },
     "execution_count": 49,
     "metadata": {},
     "output_type": "execute_result"
    }
   ],
   "source": [
    "two_way_cross_tab = pd.crosstab (data.owner, data.seller_type, margins = True)\n",
    "two_way_cross_tab"
   ]
  },
  {
   "cell_type": "markdown",
   "id": "50472bde-5f42-4be4-bcc4-b8e7e622a06e",
   "metadata": {},
   "source": [
    "Most of the observations for `Individual` seller type. Among `Individual` seller type, most of the observations are for 1st owner."
   ]
  },
  {
   "cell_type": "code",
   "execution_count": 50,
   "id": "a32075e0-8e0a-4751-a369-dbca0e2dbc63",
   "metadata": {},
   "outputs": [
    {
     "data": {
      "text/plain": [
       "<AxesSubplot:xlabel='owner'>"
      ]
     },
     "execution_count": 50,
     "metadata": {},
     "output_type": "execute_result"
    },
    {
     "data": {
      "image/png": "[encoded data removed]",
      "text/plain": [
       "<Figure size 648x432 with 1 Axes>"
      ]
     },
     "metadata": {
      "needs_background": "light"
     },
     "output_type": "display_data"
    }
   ],
   "source": [
    "two_way_cross_tab.loc[('1st owner', '2nd owner', '3rd owner', '4th owner'),\n",
    "                      ('Dealer', 'Individual')].plot.bar(stacked = True)"
   ]
  },
  {
   "cell_type": "code",
   "execution_count": 51,
   "id": "fdad74dd-ae6d-432d-93c9-656514ee9236",
   "metadata": {},
   "outputs": [
    {
     "data": {
      "image/png": "[encoded data removed]",
      "text/plain": [
       "<Figure size 648x432 with 1 Axes>"
      ]
     },
     "metadata": {
      "needs_background": "light"
     },
     "output_type": "display_data"
    }
   ],
   "source": [
    "data.boxplot(column = [\"selling_price\"], by = [\"seller_type\"])\n",
    "plt.title(\"\")\n",
    "plt.ylabel(\"Selling price\")\n",
    "plt.show()\n",
    "plt.close()"
   ]
  },
  {
   "cell_type": "code",
   "execution_count": 52,
   "id": "c106531c-d778-4ec5-9136-448144f99077",
   "metadata": {},
   "outputs": [
    {
     "data": {
      "image/png": "[encoded data removed]",
      "text/plain": [
       "<Figure size 648x432 with 1 Axes>"
      ]
     },
     "metadata": {
      "needs_background": "light"
     },
     "output_type": "display_data"
    }
   ],
   "source": [
    "data.boxplot(column = [\"selling_price\"], by = [\"owner\"])\n",
    "plt.title(\"\")\n",
    "plt.ylabel(\"Selling price\")\n",
    "plt.show()\n",
    "plt.close()"
   ]
  },
  {
   "cell_type": "markdown",
   "id": "77973821-395e-42d0-b4b2-cf44f25efb61",
   "metadata": {},
   "source": [
    "Next we take a look at the mean and median of the selling price group by owner type."
   ]
  },
  {
   "cell_type": "code",
   "execution_count": 53,
   "id": "5e5a68e2-8917-449d-aa66-8145e889c9d6",
   "metadata": {},
   "outputs": [
    {
     "data": {
      "text/html": [
       "<div>\n",
       "<style scoped>\n",
       "    .dataframe tbody tr th:only-of-type {\n",
       "        vertical-align: middle;\n",
       "    }\n",
       "\n",
       "    .dataframe tbody tr th {\n",
       "        vertical-align: top;\n",
       "    }\n",
       "\n",
       "    .dataframe thead th {\n",
       "        text-align: right;\n",
       "    }\n",
       "</style>\n",
       "<table border=\"1\" class=\"dataframe\">\n",
       "  <thead>\n",
       "    <tr style=\"text-align: right;\">\n",
       "      <th></th>\n",
       "      <th>selling_price</th>\n",
       "    </tr>\n",
       "    <tr>\n",
       "      <th>owner</th>\n",
       "      <th></th>\n",
       "    </tr>\n",
       "  </thead>\n",
       "  <tbody>\n",
       "    <tr>\n",
       "      <th>1st owner</th>\n",
       "      <td>60022.813853</td>\n",
       "    </tr>\n",
       "    <tr>\n",
       "      <th>2nd owner</th>\n",
       "      <td>55666.658537</td>\n",
       "    </tr>\n",
       "    <tr>\n",
       "      <th>3rd owner</th>\n",
       "      <td>55727.272727</td>\n",
       "    </tr>\n",
       "    <tr>\n",
       "      <th>4th owner</th>\n",
       "      <td>118333.333333</td>\n",
       "    </tr>\n",
       "  </tbody>\n",
       "</table>\n",
       "</div>"
      ],
      "text/plain": [
       "           selling_price\n",
       "owner                   \n",
       "1st owner   60022.813853\n",
       "2nd owner   55666.658537\n",
       "3rd owner   55727.272727\n",
       "4th owner  118333.333333"
      ]
     },
     "execution_count": 53,
     "metadata": {},
     "output_type": "execute_result"
    }
   ],
   "source": [
    "data[['selling_price','owner']].groupby('owner').mean()"
   ]
  },
  {
   "cell_type": "code",
   "execution_count": 54,
   "id": "1e745d18-2d8b-46b4-83dc-641645271458",
   "metadata": {},
   "outputs": [
    {
     "data": {
      "text/html": [
       "<div>\n",
       "<style scoped>\n",
       "    .dataframe tbody tr th:only-of-type {\n",
       "        vertical-align: middle;\n",
       "    }\n",
       "\n",
       "    .dataframe tbody tr th {\n",
       "        vertical-align: top;\n",
       "    }\n",
       "\n",
       "    .dataframe thead th {\n",
       "        text-align: right;\n",
       "    }\n",
       "</style>\n",
       "<table border=\"1\" class=\"dataframe\">\n",
       "  <thead>\n",
       "    <tr style=\"text-align: right;\">\n",
       "      <th></th>\n",
       "      <th>selling_price</th>\n",
       "    </tr>\n",
       "    <tr>\n",
       "      <th>owner</th>\n",
       "      <th></th>\n",
       "    </tr>\n",
       "  </thead>\n",
       "  <tbody>\n",
       "    <tr>\n",
       "      <th>1st owner</th>\n",
       "      <td>45000</td>\n",
       "    </tr>\n",
       "    <tr>\n",
       "      <th>2nd owner</th>\n",
       "      <td>32000</td>\n",
       "    </tr>\n",
       "    <tr>\n",
       "      <th>3rd owner</th>\n",
       "      <td>45000</td>\n",
       "    </tr>\n",
       "    <tr>\n",
       "      <th>4th owner</th>\n",
       "      <td>15000</td>\n",
       "    </tr>\n",
       "  </tbody>\n",
       "</table>\n",
       "</div>"
      ],
      "text/plain": [
       "           selling_price\n",
       "owner                   \n",
       "1st owner          45000\n",
       "2nd owner          32000\n",
       "3rd owner          45000\n",
       "4th owner          15000"
      ]
     },
     "execution_count": 54,
     "metadata": {},
     "output_type": "execute_result"
    }
   ],
   "source": [
    "data[['selling_price','owner']].groupby('owner').median()"
   ]
  },
  {
   "cell_type": "markdown",
   "id": "3cc75fd8-bc35-473f-a140-a3cff0a1d5ae",
   "metadata": {},
   "source": [
    "The selling price of the 2nd owners are the lowest. We can notice that there should be some extremely high prices of motorcycles sold by 4th owner. We can see the distribution of selling prices of different owner types more clear by looking at the histgrams below."
   ]
  },
  {
   "cell_type": "code",
   "execution_count": 55,
   "id": "8edd43b4-542b-42fd-8e51-f0708f4b632a",
   "metadata": {},
   "outputs": [
    {
     "data": {
      "image/png": "[encoded data removed]",
      "text/plain": [
       "<Figure size 648x432 with 4 Axes>"
      ]
     },
     "metadata": {
      "needs_background": "light"
     },
     "output_type": "display_data"
    }
   ],
   "source": [
    "fig, axs = plt.subplots(2, 2, sharey=True, tight_layout=True)\n",
    "fig.suptitle(\"Selling price distribution per owner type\", fontsize=16)\n",
    "axs[0, 0].hist(data.loc[data.owner == \"1st owner\", [\"selling_price\"]].selling_price, color = \"green\", alpha = 0.5, ec=\"black\")\n",
    "axs[0, 0].set_title('1st owner')\n",
    "axs[0][0].tick_params(axis='x', rotation=25)\n",
    "axs[0, 1].hist(data.loc[data.owner == \"2nd owner\", [\"selling_price\"]].selling_price, color = \"green\", alpha = 0.5, ec=\"black\")\n",
    "axs[0, 1].set_title('2nd owner')\n",
    "axs[0][1].tick_params(axis='x', rotation=25)\n",
    "axs[1, 0].hist(data.loc[data.owner == \"3rd owner\", [\"selling_price\"]].selling_price, color = \"green\", alpha = 0.5, ec=\"black\")\n",
    "axs[1, 0].set_title('3rd owner')\n",
    "axs[1][0].tick_params(axis='x', rotation=25)\n",
    "axs[1, 1].hist(data.loc[data.owner == \"4th owner\", [\"selling_price\"]].selling_price, color = \"green\", alpha = 0.5, ec=\"black\")\n",
    "axs[1, 1].set_title('4th owner')\n",
    "axs[1][1].tick_params(axis='x', rotation=25)\n",
    "plt.show()\n",
    "plt.close()"
   ]
  },
  {
   "cell_type": "markdown",
   "id": "97bc3550-bd35-41c6-8aaf-b57339c7ef5d",
   "metadata": {},
   "source": [
    "Selling price distributions per owner type. Most of the observations have `owner` = `1st owner`."
   ]
  },
  {
   "cell_type": "markdown",
   "id": "d9fd719f-d170-49bf-8159-e2b810c3f93a",
   "metadata": {},
   "source": [
    "We can also take a look at the average selling price group by both onwer type and seller type."
   ]
  },
  {
   "cell_type": "code",
   "execution_count": 56,
   "id": "4204abfd-8868-49a3-9441-a49364d29929",
   "metadata": {},
   "outputs": [
    {
     "data": {
      "text/html": [
       "<div>\n",
       "<style scoped>\n",
       "    .dataframe tbody tr th:only-of-type {\n",
       "        vertical-align: middle;\n",
       "    }\n",
       "\n",
       "    .dataframe tbody tr th {\n",
       "        vertical-align: top;\n",
       "    }\n",
       "\n",
       "    .dataframe thead th {\n",
       "        text-align: right;\n",
       "    }\n",
       "</style>\n",
       "<table border=\"1\" class=\"dataframe\">\n",
       "  <thead>\n",
       "    <tr style=\"text-align: right;\">\n",
       "      <th></th>\n",
       "      <th></th>\n",
       "      <th>selling_price</th>\n",
       "    </tr>\n",
       "    <tr>\n",
       "      <th>seller_type</th>\n",
       "      <th>owner</th>\n",
       "      <th></th>\n",
       "    </tr>\n",
       "  </thead>\n",
       "  <tbody>\n",
       "    <tr>\n",
       "      <th rowspan=\"4\" valign=\"top\">Dealer</th>\n",
       "      <th>1st owner</th>\n",
       "      <td>60000.000000</td>\n",
       "    </tr>\n",
       "    <tr>\n",
       "      <th>2nd owner</th>\n",
       "      <td>20000.000000</td>\n",
       "    </tr>\n",
       "    <tr>\n",
       "      <th>3rd owner</th>\n",
       "      <td>NaN</td>\n",
       "    </tr>\n",
       "    <tr>\n",
       "      <th>4th owner</th>\n",
       "      <td>NaN</td>\n",
       "    </tr>\n",
       "    <tr>\n",
       "      <th rowspan=\"4\" valign=\"top\">Individual</th>\n",
       "      <th>1st owner</th>\n",
       "      <td>60022.913043</td>\n",
       "    </tr>\n",
       "    <tr>\n",
       "      <th>2nd owner</th>\n",
       "      <td>56256.190083</td>\n",
       "    </tr>\n",
       "    <tr>\n",
       "      <th>3rd owner</th>\n",
       "      <td>55727.272727</td>\n",
       "    </tr>\n",
       "    <tr>\n",
       "      <th>4th owner</th>\n",
       "      <td>118333.333333</td>\n",
       "    </tr>\n",
       "  </tbody>\n",
       "</table>\n",
       "</div>"
      ],
      "text/plain": [
       "                       selling_price\n",
       "seller_type owner                   \n",
       "Dealer      1st owner   60000.000000\n",
       "            2nd owner   20000.000000\n",
       "            3rd owner            NaN\n",
       "            4th owner            NaN\n",
       "Individual  1st owner   60022.913043\n",
       "            2nd owner   56256.190083\n",
       "            3rd owner   55727.272727\n",
       "            4th owner  118333.333333"
      ]
     },
     "execution_count": 56,
     "metadata": {},
     "output_type": "execute_result"
    }
   ],
   "source": [
    "data[['selling_price','seller_type','owner']].groupby(['seller_type','owner']).mean()"
   ]
  },
  {
   "cell_type": "markdown",
   "id": "c4e7811e-24b0-4bf5-87e4-2c2864f8a770",
   "metadata": {
    "tags": []
   },
   "source": [
    "# Grid Search Algorithm"
   ]
  },
  {
   "cell_type": "markdown",
   "id": "dd94a744-90f8-4f33-85c8-90739fbe29e4",
   "metadata": {},
   "source": [
    "### Just *y*\n",
    "\n",
    "In this case we don’t consider any data other than the y′s. That is, c is going to just be a constant that minimizes the function.\n",
    "\n",
    "Define loss function."
   ]
  },
  {
   "cell_type": "code",
   "execution_count": 57,
   "id": "dde1541d-d774-4656-8972-8daf398f125e",
   "metadata": {},
   "outputs": [],
   "source": [
    "def loss_func(y, c):\n",
    "    '''\n",
    "    Returns loss fucntion for two variables\n",
    "    '''\n",
    "    return (y-c)**2"
   ]
  },
  {
   "cell_type": "markdown",
   "id": "fd3cc0b2-7d25-478c-9f9d-87529c6bfea6",
   "metadata": {},
   "source": [
    "Define function which calculates `Root Mean Square Error` for the list of values `c` and `y's`."
   ]
  },
  {
   "cell_type": "code",
   "execution_count": 58,
   "id": "6596a019-1493-4468-89c8-e01bd0018f58",
   "metadata": {},
   "outputs": [],
   "source": [
    "def rmse(dy, c):\n",
    "    '''\n",
    "    Returns dictionary for root mean square errors for the list of c and series dy\n",
    "    Keys for returned dictionary are values of c, values - calculated rmse for each c\n",
    "    '''\n",
    "    result = {}\n",
    "    try:\n",
    "        for i in range(len (c)):\n",
    "            sum_y = 0\n",
    "            for j in range(dy.shape[0]):\n",
    "                sum_y = sum_y + (loss_func(dy[j], c[i]))\n",
    "            value = math.sqrt( 1/(dy.shape[0])*sum_y )   \n",
    "            result.update({c[i]: value})\n",
    "        return result\n",
    "    except Exception as e:\n",
    "        print(\"Exception occurred \" + str(e))"
   ]
  },
  {
   "cell_type": "markdown",
   "id": "dfcd767b-4708-452b-8040-485de5bed9b3",
   "metadata": {},
   "source": [
    "Create function which will be initialize list of `c` with initial guess based on the `y's` values."
   ]
  },
  {
   "cell_type": "code",
   "execution_count": 64,
   "id": "5311eb42-6793-4433-b6ca-528cbe2c3825",
   "metadata": {},
   "outputs": [],
   "source": [
    "def create_grid_for_c(dy):\n",
    "    '''\n",
    "    Returns grid of values for c\n",
    "    '''\n",
    "    result = []\n",
    "    result.append (dy.median())\n",
    "    result.append (dy.median() + 0.05*dy.std())\n",
    "    result.append (dy.median() - 0.05*dy.std())\n",
    "    result.append (dy.median() + 0.1*dy.std())\n",
    "    result.append (dy.median() - 0.1*dy.std())\n",
    "    result.append (dy.median() + 0.2*dy.std())\n",
    "    result.append (dy.median() - 0.2*dy.std())\n",
    "    result.append (dy.mean())\n",
    "    result.append (dy.mean() + 0.05*dy.std())\n",
    "    result.append (dy.mean() - 0.05*dy.std())\n",
    "    result.append (dy.mean() + 0.1*dy.std())\n",
    "    result.append (dy.mean() - 0.1*dy.std())\n",
    "    result.append (dy.mean() + 0.2*dy.std())\n",
    "    result.append (dy.mean() - 0.2*dy.std())\n",
    "    result.append (dy.mean() + 0.3*dy.std())\n",
    "    result.append (dy.mean() - 0.3*dy.std())\n",
    "    result.append (dy.mean() + 0.5*dy.std())\n",
    "    result.append (dy.mean() - 0.5*dy.std())\n",
    "    return result"
   ]
  },
  {
   "cell_type": "markdown",
   "id": "cc4defb7-8a67-41c1-a6df-a60830507435",
   "metadata": {},
   "source": [
    "Create function for grid search algorithm."
   ]
  },
  {
   "cell_type": "code",
   "execution_count": 67,
   "id": "b06c789a-5f3b-42aa-ba0b-eccb84112011",
   "metadata": {},
   "outputs": [],
   "source": [
    "def grid_search_with_const (dy):\n",
    "    '''\n",
    "    Returns optimal prediction for y using grid search algorithm with y as an input \n",
    "    '''\n",
    "    try:\n",
    "        c = create_grid_for_c(dy)\n",
    "        results = rmse(dy, c)\n",
    "        c_opt = min(results, key=results.get)\n",
    "        return c_opt\n",
    "    except Exception as e:\n",
    "        print(\"Exception occurred \" + str(e))        "
   ]
  },
  {
   "cell_type": "markdown",
   "id": "b5fd5beb-c594-48f6-ab83-f3f5d69733bc",
   "metadata": {},
   "source": [
    "Find optimal value for `selling_price` using just implemented grid search algorithm. "
   ]
  },
  {
   "cell_type": "code",
   "execution_count": 68,
   "id": "3ee027f6-3214-4055-ac1e-d81010a1c28b",
   "metadata": {},
   "outputs": [
    {
     "name": "stdout",
     "output_type": "stream",
     "text": [
      "Optimal value for selling price is 59638.151743638075\n"
     ]
    }
   ],
   "source": [
    "optimal_price = grid_search_with_const (data.selling_price)\n",
    "print (\"Optimal value for selling price is \" + str (optimal_price))"
   ]
  },
  {
   "cell_type": "markdown",
   "id": "e759e6a1-31b5-479d-864f-ee3e201e836d",
   "metadata": {},
   "source": [
    "To be sure the algorithm generalizes, will run it using the `km_driven` variable as the response."
   ]
  },
  {
   "cell_type": "code",
   "execution_count": 69,
   "id": "6c8b20e1-1d04-462d-a7b2-35a776d76a32",
   "metadata": {},
   "outputs": [
    {
     "name": "stdout",
     "output_type": "stream",
     "text": [
      "Optimal value for km driven is 34359.83317624882\n"
     ]
    }
   ],
   "source": [
    "km_driven_opt = grid_search_with_const (data.km_driven)\n",
    "print (\"Optimal value for km driven is \" + str (km_driven_opt))"
   ]
  },
  {
   "cell_type": "markdown",
   "id": "1763c66f-9930-4d52-b39d-f607e27da6fc",
   "metadata": {},
   "source": [
    "### Using *y* and another numeric variable *x*\n",
    "\n",
    "We will implement the grid search to find the optimal pair of values for `b0` and `b1` using `km_driven` as your `x` variable and `selling_price` as `y` variable."
   ]
  },
  {
   "cell_type": "markdown",
   "id": "cc32f81b-eb66-4d67-88d1-f64c894351f2",
   "metadata": {},
   "source": [
    "First, populate grid for `b0` and `b1`. Grid will be created with integers between the range 60000 to 70000 for `b0` and with values of -1 to 1 by 0.01 for `b1`."
   ]
  },
  {
   "cell_type": "code",
   "execution_count": 81,
   "id": "f120c9fe-e285-443a-897d-f117d597a93e",
   "metadata": {},
   "outputs": [],
   "source": [
    "b0 = np.arange(start=6000, stop = 7005, step=5)\n",
    "b1 = np.arange (start=-1, stop=1.01, step=0.01)\n",
    "input_grid = {'b0':b0, 'b1':b1}"
   ]
  },
  {
   "cell_type": "markdown",
   "id": "e2b1bdc3-cf83-4232-8199-a4d7585fb629",
   "metadata": {},
   "source": [
    "Grid search algorithm implementation with x and y as input parameters."
   ]
  },
  {
   "cell_type": "code",
   "execution_count": 82,
   "id": "a8a5a98d-2bc2-4fed-baec-eea7d163f222",
   "metadata": {},
   "outputs": [],
   "source": [
    "def grid_search_with_extra_variable(input_grid, dx, dy):\n",
    "    '''\n",
    "    Returns optimal values for b0 and b1 using grid search algorithm\n",
    "    '''\n",
    "    try:\n",
    "        df_input = pd.DataFrame(input_grid,  columns = [\"b0\", \"b1\"]);\n",
    "        result = pd.DataFrame(columns = [\"b0\", \"b1\", \"rmse\"])\n",
    "    \n",
    "        for i in range (df_input.b0.shape[0]):\n",
    "            for j in range (df_input.b1.shape[0]):\n",
    "                sum_y = 0\n",
    "                for k in range (dx.shape[0]):\n",
    "                    c_i = df_input.b0[i] + df_input.b1[j]*dx[k]\n",
    "                    sum_y = sum_y + (loss_func(c_i, dy[k]))\n",
    "                rmse = math.sqrt(1/(dx.shape[0])*sum_y)   \n",
    "                df2 = {'b0': df_input.b0[i], 'b1': df_input.b1[j], 'rmse':rmse}    \n",
    "                result = result.append(df2,ignore_index = True) \n",
    "        return result[ (result.rmse == result.rmse.min())]\n",
    "    except Exception as e:\n",
    "        print(\"Exception occurred \" + str(e))  "
   ]
  },
  {
   "cell_type": "code",
   "execution_count": 83,
   "id": "1724e2ba-2c3a-45bc-9189-7b9aace5ba7c",
   "metadata": {},
   "outputs": [],
   "source": [
    "optimal = grid_search_with_extra_variable(input_grid, data.km_driven, data.selling_price)  "
   ]
  },
  {
   "cell_type": "code",
   "execution_count": 84,
   "id": "022df520-0713-4d88-8e41-bcb0bf8528b2",
   "metadata": {},
   "outputs": [
    {
     "name": "stdout",
     "output_type": "stream",
     "text": [
      "Derived best value for b0 is  7000.0 best value for b1 is  0.31 with estimated RMSE  74627.683172\n"
     ]
    }
   ],
   "source": [
    "print (\"Derived best value for b0 is\", optimal.b0.to_string(index=False, header=False), \n",
    "       \"best value for b1 is\", optimal.b1.to_string(index=False, header=False), \n",
    "       \"with estimated RMSE\", optimal.rmse.to_string(index=False, header=False))"
   ]
  },
  {
   "cell_type": "markdown",
   "id": "27089ff3-5d66-47f0-9e13-3cf7ae04057c",
   "metadata": {},
   "source": [
    "Will use derived combination of b0 and b1 to predict the selling_price for km_driven of 10000."
   ]
  },
  {
   "cell_type": "code",
   "execution_count": 74,
   "id": "36443701-ff6e-4ce3-81a6-56f3e86a678f",
   "metadata": {},
   "outputs": [
    {
     "name": "stdout",
     "output_type": "stream",
     "text": [
      "40331    10100.0\n",
      "dtype: float64\n"
     ]
    }
   ],
   "source": [
    "x = 10000\n",
    "y = optimal.b0+optimal.b1*x\n",
    "print(y)"
   ]
  },
  {
   "cell_type": "markdown",
   "id": "08d40a34-149c-4c2d-83c8-50ff242e33a8",
   "metadata": {},
   "source": [
    "Will use your derived combination of b0 and b1 to predict the selling_price for km_driven of 25000."
   ]
  },
  {
   "cell_type": "code",
   "execution_count": 75,
   "id": "dddb5f63-c420-4857-8b3b-232b56401a59",
   "metadata": {},
   "outputs": [
    {
     "name": "stdout",
     "output_type": "stream",
     "text": [
      "40331    14750.0\n",
      "dtype: float64\n"
     ]
    }
   ],
   "source": [
    "x = 25000\n",
    "y = optimal.b0+optimal.b1*x\n",
    "print(y)"
   ]
  },
  {
   "cell_type": "markdown",
   "id": "116b863d-d924-48fa-aefc-b99a4ddae6df",
   "metadata": {},
   "source": [
    "Will use your derived combination of b0 and b1 to predict the selling_price for km_driven of 35000."
   ]
  },
  {
   "cell_type": "code",
   "execution_count": 76,
   "id": "f6176f4f-ad68-49bd-babd-204c7edf3bde",
   "metadata": {},
   "outputs": [
    {
     "name": "stdout",
     "output_type": "stream",
     "text": [
      "40331    17850.0\n",
      "dtype: float64\n"
     ]
    }
   ],
   "source": [
    "x = 35000\n",
    "y = optimal.b0+optimal.b1*x\n",
    "print(y)"
   ]
  },
  {
   "cell_type": "markdown",
   "id": "cdb73927-4f01-440a-8107-2ad857e1997f",
   "metadata": {},
   "source": [
    "# Gradient decent \n",
    "\n",
    "\n",
    "Now we will implement Gradient Descent Algorithm(GDA). GDA is optimization algorithm used to find a local minimum of a given function."
   ]
  },
  {
   "cell_type": "markdown",
   "id": "945efddb-ffa2-4e09-a266-dda8121e8eae",
   "metadata": {},
   "source": [
    "### Just *y*\n",
    "\n",
    "First, we will consider the `y′s` and no `x′s`."
   ]
  },
  {
   "cell_type": "markdown",
   "id": "b6cfd7b5-a21f-42ac-98d5-1e177ca2077e",
   "metadata": {},
   "source": [
    "Root Mean square error function."
   ]
  },
  {
   "cell_type": "code",
   "execution_count": 77,
   "id": "76757d1d-9755-4be5-aa92-87966053269c",
   "metadata": {},
   "outputs": [],
   "source": [
    "def rmse2(dy, c):\n",
    "    '''\n",
    "    Returns root rean square error for series dy and constant c\n",
    "    '''\n",
    "    result = {}\n",
    "    sum_y = 0\n",
    "    for j in range(dy.shape[0]):\n",
    "        sum_y = sum_y + (loss_func(dy[j], c))\n",
    "    value = math.sqrt( 1/(dy.shape[0])*sum_y )   \n",
    "    return value "
   ]
  },
  {
   "cell_type": "markdown",
   "id": "5ba831b4-22aa-4b8c-9800-21c4700f004a",
   "metadata": {},
   "source": [
    "Gradient decent function to find optimal values consider only `y's`."
   ]
  },
  {
   "cell_type": "code",
   "execution_count": 78,
   "id": "294c1e01-3239-479a-a728-07186e6f89d8",
   "metadata": {},
   "outputs": [],
   "source": [
    "def gradient_decent_1(dy, attempts):\n",
    "    '''\n",
    "    Implements gradient decent algorithm with y only as a parameter\n",
    "    '''\n",
    "    delta = 0.005\n",
    "    step_size = 0.5\n",
    "    cur_c = 50000\n",
    "    \n",
    "    try:\n",
    "        diff_quotient = (rmse2(dy, cur_c+delta) - rmse2(dy, cur_c) )/delta\n",
    "        new_c = cur_c - diff_quotient*step_size\n",
    "        for i in range (attempts):\n",
    "            if (abs((new_c - cur_c)) < 0.04):\n",
    "                cur_c = new_c\n",
    "                print ('Convergence found!')\n",
    "                break\n",
    "            else:\n",
    "                cur_c = new_c\n",
    "                diff_quotient = (rmse2(dy, cur_c+delta) - rmse2(dy, cur_c) )/delta\n",
    "                new_c = cur_c - diff_quotient*step_size\n",
    "        return cur_c\n",
    "    except Exception as e:\n",
    "        print(\"Exception occurred \" + str(e))  "
   ]
  },
  {
   "cell_type": "code",
   "execution_count": 79,
   "id": "7fb66de0-9785-433c-848b-288dc01d1c78",
   "metadata": {},
   "outputs": [
    {
     "name": "stdout",
     "output_type": "stream",
     "text": [
      "Convergence found!\n",
      "Optimal value for selling price is 55121.52916314517\n"
     ]
    }
   ],
   "source": [
    "price_opt = gradient_decent_1(data.selling_price, 100000) \n",
    "print (\"Optimal value for selling price is \" + str (price_opt))"
   ]
  },
  {
   "cell_type": "code",
   "execution_count": null,
   "id": "506864a8-9d02-465e-a96c-20e7ba9f7be9",
   "metadata": {},
   "outputs": [],
   "source": [
    "km_driven_opt = gradient_decent_1(data.km_driven, 40000)\n",
    "print (\"Optimal value for km driven is \" + str (km_driven_opt))"
   ]
  },
  {
   "cell_type": "markdown",
   "id": "b027a693-d70f-446b-94ed-0629f52875ad",
   "metadata": {},
   "source": [
    "### Using *y* and another numeric variable *x*"
   ]
  },
  {
   "cell_type": "markdown",
   "id": "93a46714-1bee-4f11-83fc-e9cd05914555",
   "metadata": {},
   "source": [
    "Root Mean Square Error function takes `y`, `x`, `b0`, `b1` as input arguments and returns root mean square error."
   ]
  },
  {
   "cell_type": "code",
   "execution_count": null,
   "id": "c8a79d60-a288-40e0-98d1-8b8c5803cda7",
   "metadata": {},
   "outputs": [],
   "source": [
    "def rmse3(dy,dx, b0, b1):\n",
    "    '''\n",
    "    Returns root mean square error calculated with b0, b1, dx\n",
    "    '''\n",
    "    try:\n",
    "        result = {}\n",
    "        sum_y = 0\n",
    "        for j in range(dy.shape[0]):\n",
    "            sum_y = sum_y + (loss_func(dy[j], (b0+b1*dx[j])))\n",
    "            value = math.sqrt( 1/(dy.shape[0])*sum_y )   \n",
    "        return value\n",
    "    except Exception as e:\n",
    "        print(\"Exception occurred \" + str(e))"
   ]
  },
  {
   "cell_type": "markdown",
   "id": "765ad42f-9c18-4fee-b31c-238f50c32238",
   "metadata": {},
   "source": [
    "Difference quotient function for `b0` to approximate the slope of the tangent line in the direction of `b0` and difference quotient function for `b1` to approximate the slope of the tangent line in the direction of `b1`."
   ]
  },
  {
   "cell_type": "code",
   "execution_count": null,
   "id": "2997fa9d-1766-422b-8cba-fb23c9720e15",
   "metadata": {},
   "outputs": [],
   "source": [
    "def diff_quotient_b0 (dy, dx, b0, b0_delta, b1):\n",
    "    return (rmse3(dy, dx, b0+b0_delta, b1) - rmse3 (dy, dx, b0, b1))/b0_delta\n",
    "\n",
    "\n",
    "def diff_quotient_b1 (dy, dx, b0, b1, b1_delta):\n",
    "    return (rmse3(dy, dx, b0, b1+b1_delta) - rmse3 (dy, dx, b0, b1))/b1_delta"
   ]
  },
  {
   "cell_type": "markdown",
   "id": "06bd8ab6-4eda-48d2-b802-487e206edd56",
   "metadata": {},
   "source": [
    "Gradient decent function to find optimal values of `b0` and `b1`."
   ]
  },
  {
   "cell_type": "code",
   "execution_count": null,
   "id": "41cf00fa-b948-4652-a5fc-c0282acf65b7",
   "metadata": {},
   "outputs": [],
   "source": [
    "def grad_decent_2(dx, dy, attempts):\n",
    "    '''\n",
    "    Implements gradient decent algorithm with dx, dy, b0 and b1 as input parameters\n",
    "    '''\n",
    "    cur_b0 = 60000\n",
    "    cur_b1 = 0\n",
    "    \n",
    "    step_size_b0 = 1\n",
    "    step_size_b1 = 0.000005\n",
    "    delta = 0.005\n",
    "    try:\n",
    "        for i in range (attempts):\n",
    "            dif_q_b0 = diff_quotient_b0 (dy, dx, cur_b0, delta, cur_b1)\n",
    "            new_b0 = cur_b0 - dif_q_b0*step_size_b0\n",
    "\n",
    "            dif_q_b1 = diff_quotient_b1 (dy, dx, new_b0, cur_b1, delta)\n",
    "            new_b1 = cur_b1 - dif_q_b1*step_size_b1\n",
    "    \n",
    "            cur_point = np.array((cur_b0, cur_b1))\n",
    "            new_point = np.array((new_b0, new_b1))\n",
    "            dist = np.linalg.norm(cur_point - new_point)\n",
    "        \n",
    "            if (dist < 0.04):\n",
    "                print (\"Convergence found in \" + str(i) + \" iteration\")\n",
    "                return new_point\n",
    "            cur_b0 = new_b0\n",
    "            cur_b1 = new_b1\n",
    "        print (\"Convergence not found\")    \n",
    "        return new_point\n",
    "    except Exception as e:\n",
    "        print(\"Exception occurred \" + str(e))"
   ]
  },
  {
   "cell_type": "code",
   "execution_count": null,
   "id": "92ceba71-d2ed-45b0-931b-cc7538e154a4",
   "metadata": {},
   "outputs": [],
   "source": [
    "optimal = grad_decent_2(data.km_driven, data.selling_price, 100000)     "
   ]
  },
  {
   "cell_type": "code",
   "execution_count": null,
   "id": "677a4a4f-dec7-488c-91f9-5ede298bb639",
   "metadata": {},
   "outputs": [],
   "source": [
    "print(\"Optimal value for b0 is\", optimal[0], \"\\nOptimal value for b1 is\", optimal[1])"
   ]
  },
  {
   "cell_type": "markdown",
   "id": "ce1b2f47-d785-4866-8af5-48ca6797824c",
   "metadata": {},
   "source": [
    "Use your optimal combination of `b0` and `b1` derived above to predict selling prices."
   ]
  },
  {
   "cell_type": "code",
   "execution_count": null,
   "id": "a6977842-0c10-4a06-8ed2-e7186ba342ff",
   "metadata": {},
   "outputs": [],
   "source": [
    "x = 10000\n",
    "optimal[0] + optimal[1]*x"
   ]
  },
  {
   "cell_type": "code",
   "execution_count": null,
   "id": "855f8142-3b00-445e-989b-472ac6d494e7",
   "metadata": {},
   "outputs": [],
   "source": [
    "x = 25000\n",
    "optimal[0] + optimal[1]*x"
   ]
  },
  {
   "cell_type": "code",
   "execution_count": null,
   "id": "c06d8583-c1ba-4f3a-a296-8ba56b06fa16",
   "metadata": {},
   "outputs": [],
   "source": [
    "x = 35000\n",
    "optimal[0] + optimal[1]*x"
   ]
  },
  {
   "cell_type": "code",
   "execution_count": null,
   "id": "544f9a9d-a469-4c55-acce-d94f4397b820",
   "metadata": {},
   "outputs": [],
   "source": []
  }
 ],
 "metadata": {
  "kernelspec": {
   "display_name": "Python 3",
   "language": "python",
   "name": "python3"
  },
  "language_info": {
   "codemirror_mode": {
    "name": "ipython",
    "version": 3
   },
   "file_extension": ".py",
   "mimetype": "text/x-python",
   "name": "python",
   "nbconvert_exporter": "python",
   "pygments_lexer": "ipython3",
   "version": "3.8.5"
  }
 },
 "nbformat": 4,
 "nbformat_minor": 5
}
